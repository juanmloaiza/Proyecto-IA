{
  "nbformat": 4,
  "nbformat_minor": 0,
  "metadata": {
    "colab": {
      "provenance": []
    },
    "kernelspec": {
      "name": "python3",
      "display_name": "Python 3"
    },
    "language_info": {
      "name": "python"
    }
  },
  "cells": [
    {
      "cell_type": "markdown",
      "source": [
        "En este notebook se realiza una segunda aproximación utilizando imputación simple de valores faltantes y un modelo de árbol de decisión sin codificación one-hot, para las variables categóricas se utiliza codificación ordinal directa (Label Encoding). Esta aproximación permite ejecutar el modelo rápidamente con resultados interpretables\n",
        "\n"
      ],
      "metadata": {
        "id": "JZfZUUtHYx1I"
      }
    },
    {
      "cell_type": "code",
      "execution_count": null,
      "metadata": {
        "colab": {
          "base_uri": "https://localhost:8080/"
        },
        "id": "e1oqa7HoYurY",
        "outputId": "b5019dc9-1ca2-4838-d1e6-9bad0cd443f2"
      },
      "outputs": [
        {
          "output_type": "stream",
          "name": "stdout",
          "text": [
            "Drive already mounted at /content/drive; to attempt to forcibly remount, call drive.mount(\"/content/drive\", force_remount=True).\n"
          ]
        }
      ],
      "source": [
        "#Carga datos desde Google Drive\n",
        "from google.colab import drive\n",
        "drive.mount('/content/drive')\n",
        "\n",
        "import pandas as pd\n",
        "from sklearn.tree import DecisionTreeClassifier\n",
        "from sklearn.model_selection import train_test_split\n",
        "from sklearn.preprocessing import LabelEncoder\n",
        "from sklearn.metrics import accuracy_score\n",
        "\n",
        "\n",
        "train_path = '/content/drive/MyDrive/Proyecto IA/Pruebas_Saber_Pro/train.csv'\n",
        "test_path = '/content/drive/MyDrive/Proyecto IA/Pruebas_Saber_Pro/test.csv'\n",
        "\n",
        "\n",
        "df_train = pd.read_csv(train_path)\n",
        "df_test = pd.read_csv(test_path)\n",
        "\n",
        "# Elimina filas sin etiqueta\n",
        "df_train = df_train.dropna(subset=['RENDIMIENTO_GLOBAL'])\n",
        "\n",
        "# Imputa valores nulos\n",
        "for df in [df_train, df_test]:\n",
        "    for col in df.columns:\n",
        "        if df[col].dtype == 'object':\n",
        "            df[col] = df[col].fillna('Desconocido')\n",
        "        else:\n",
        "            df[col] = df[col].fillna(df[col].median())\n",
        "\n",
        "# Guarda ID del test para el archivo final\n",
        "test_ids = df_test['ID']\n",
        "\n",
        "# Codifica variables categóricas con control de valores nuevos\n",
        "cat_cols = df_train.select_dtypes(include='object').columns.tolist()\n",
        "cat_cols.remove('RENDIMIENTO_GLOBAL')\n",
        "\n",
        "le_dict = {}\n",
        "for col in cat_cols:\n",
        "    le = LabelEncoder()\n",
        "    df_train[col] = le.fit_transform(df_train[col])\n",
        "\n",
        "\n",
        "    mapping = dict(zip(le.classes_, le.transform(le.classes_)))\n",
        "    df_test[col] = df_test[col].map(mapping).fillna(-1).astype(int)\n",
        "\n",
        "    le_dict[col] = le\n",
        "\n",
        "# Codifica la variable objetivo\n",
        "target_le = LabelEncoder()\n",
        "y = target_le.fit_transform(df_train['RENDIMIENTO_GLOBAL'])\n",
        "\n",
        "X = df_train.drop(columns=['ID', 'RENDIMIENTO_GLOBAL'])\n",
        "X_test = df_test.drop(columns=['ID'])\n",
        "\n",
        "# Entrena modelo de árbol de decisión\n",
        "model = DecisionTreeClassifier(max_depth=6, random_state=42)\n",
        "model.fit(X, y)\n",
        "\n",
        "# Predice y decodifica etiquetas\n",
        "preds_encoded = model.predict(X_test)\n",
        "preds = target_le.inverse_transform(preds_encoded)\n",
        "\n",
        "# Crea archivo csv para conocer el resultado del modelo\n",
        "submission = pd.DataFrame({'ID': test_ids, 'RENDIMIENTO_GLOBAL': preds})\n",
        "submission.to_csv('submission.csv', index=False)\n",
        "\n",
        "\n",
        "\n",
        "\n",
        "\n"
      ]
    }
  ]
}