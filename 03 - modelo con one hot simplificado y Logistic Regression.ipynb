{
  "nbformat": 4,
  "nbformat_minor": 0,
  "metadata": {
    "colab": {
      "provenance": []
    },
    "kernelspec": {
      "name": "python3",
      "display_name": "Python 3"
    },
    "language_info": {
      "name": "python"
    }
  },
  "cells": [
    {
      "cell_type": "markdown",
      "source": [
        "En este notebook se realiza una aproximación al problema utilizando un preprocesamiento simplificado donde se eliminan algunas variables poco relevantes, se aplica codificación One-Hot sobre variables categóricas y se entrena un modelo de Regresión Logística sin normalizar los datos numéricos, el enfoque de esta aproximación busca una solución rápida y reproducible con un modelo lineal ligero"
      ],
      "metadata": {
        "id": "wpy0OaiZYT84"
      }
    },
    {
      "cell_type": "code",
      "execution_count": null,
      "metadata": {
        "colab": {
          "base_uri": "https://localhost:8080/"
        },
        "id": "3iYfuZsoYM56",
        "outputId": "e119d81a-04c8-4562-fa2c-71f154a811df"
      },
      "outputs": [
        {
          "output_type": "stream",
          "name": "stdout",
          "text": [
            "Drive already mounted at /content/drive; to attempt to forcibly remount, call drive.mount(\"/content/drive\", force_remount=True).\n",
            " submission.csv generado correctamente.\n"
          ]
        }
      ],
      "source": [
        "#Carga datos desde Google Drive\n",
        "from google.colab import drive\n",
        "drive.mount('/content/drive')\n",
        "\n",
        "import pandas as pd\n",
        "from sklearn.linear_model import LogisticRegression\n",
        "from sklearn.model_selection import train_test_split\n",
        "from sklearn.metrics import accuracy_score\n",
        "\n",
        "\n",
        "train_path = '/content/drive/MyDrive/Proyecto IA/Pruebas_Saber_Pro/train.csv'\n",
        "test_path = '/content/drive/MyDrive/Proyecto IA/Pruebas_Saber_Pro/test.csv'\n",
        "\n",
        "\n",
        "df_train = pd.read_csv(train_path)\n",
        "df_test = pd.read_csv(test_path)\n",
        "\n",
        "# Toma una muestra para evitar uso excesivo de memoria\n",
        "df_train = df_train.sample(50000, random_state=42)\n",
        "\n",
        "# Elimina filas sin etiqueta\n",
        "df_train = df_train.dropna(subset=['RENDIMIENTO_GLOBAL'])\n",
        "\n",
        "# Imputa valores nulos\n",
        "for df in [df_train, df_test]:\n",
        "    for col in df.columns:\n",
        "        if df[col].dtype == 'object':\n",
        "            df[col] = df[col].fillna('Desconocido')\n",
        "        else:\n",
        "            df[col] = df[col].fillna(df[col].median())\n",
        "\n",
        "# Guarda ID\n",
        "test_ids = df_test['ID']\n",
        "\n",
        "# Etiqueta test como 'desconocido'\n",
        "df_train['source'] = 'train'\n",
        "df_test['RENDIMIENTO_GLOBAL'] = 'desconocido'\n",
        "df_test['source'] = 'test'\n",
        "df_all = pd.concat([df_train, df_test])\n",
        "\n",
        "# Codificación One-Hot para todas las columnas categóricas\n",
        "cat_cols = df_all.select_dtypes(include='object').columns.tolist()\n",
        "cat_cols.remove('RENDIMIENTO_GLOBAL')\n",
        "cat_cols.remove('source')\n",
        "\n",
        "df_all = pd.get_dummies(df_all, columns=cat_cols, drop_first=True)\n",
        "\n",
        "\n",
        "\n",
        "df_train = df_all[df_all['source'] == 'train'].drop(columns=['source'])\n",
        "df_test = df_all[df_all['source'] == 'test'].drop(columns=['source', 'RENDIMIENTO_GLOBAL'])\n",
        "\n",
        "X = df_train.drop(columns=['ID', 'RENDIMIENTO_GLOBAL'])\n",
        "y = df_train['RENDIMIENTO_GLOBAL']\n",
        "X_test = df_test.drop(columns=['ID'])\n",
        "\n",
        "# Entrenar el modelo\n",
        "model = LogisticRegression(max_iter=1000)\n",
        "model.fit(X, y)\n",
        "\n",
        "# Predicción\n",
        "preds = model.predict(X_test)\n",
        "\n",
        "# Genera archivo para conocer el resultado del modelo\n",
        "submission = pd.DataFrame({'ID': test_ids, 'RENDIMIENTO_GLOBAL': preds})\n",
        "submission.to_csv('submission.csv', index=False)\n",
        "print(\" submission.csv generado correctamente.\")\n",
        "\n",
        "\n",
        "\n"
      ]
    }
  ]
}